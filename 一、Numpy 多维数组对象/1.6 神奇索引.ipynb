{
 "cells": [
  {
   "attachments": {
    "image-4.png": {
     "image/png": "[encoded data removed]"
    }
   },
   "cell_type": "markdown",
   "id": "260aa103",
   "metadata": {},
   "source": [
    "## 1.6 神奇索引\n",
    "神奇索引：使用整数数组进行数据索引。\n",
    "![image-4.png](attachment:image-4.png)\n",
    "a[[2,3,5]]      # 返回对应下标的一数组 array([7,9,2])"
   ]
  },
  {
   "cell_type": "code",
   "execution_count": 1,
   "id": "3e5b042a",
   "metadata": {},
   "outputs": [
    {
     "name": "stdout",
     "output_type": "stream",
     "text": [
      "[[ 0  1  2  3]\n",
      " [ 4  5  6  7]\n",
      " [ 8  9 10 11]\n",
      " [12 13 14 15]\n",
      " [16 17 18 19]\n",
      " [20 21 22 23]\n",
      " [24 25 26 27]\n",
      " [28 29 30 31]\n",
      " [32 33 34 35]]\n",
      "***************\n",
      "[[16 17 18 19]\n",
      " [12 13 14 15]\n",
      " [ 0  1  2  3]\n",
      " [24 25 26 27]]\n"
     ]
    }
   ],
   "source": [
    "import numpy as np              \n",
    "arry = np.arange(36).reshape(9,4)  \n",
    "print(arry)                        \n",
    "print(\"*\"*15)                   \n",
    "print(arry[[4,3,0,6]])   # 返回第4行，第3行，第0行，第6行 "
   ]
  },
  {
   "cell_type": "code",
   "execution_count": 2,
   "id": "5c3ace59",
   "metadata": {},
   "outputs": [
    {
     "name": "stdout",
     "output_type": "stream",
     "text": [
      "[[ 0  1  2  3]\n",
      " [ 4  5  6  7]\n",
      " [ 8  9 10 11]\n",
      " [12 13 14 15]\n",
      " [16 17 18 19]\n",
      " [20 21 22 23]\n",
      " [24 25 26 27]\n",
      " [28 29 30 31]]\n",
      "[ 4 23 29 10]\n"
     ]
    }
   ],
   "source": [
    "arry = np.arange(32).reshape((8,4))  \n",
    "print(arry)                          \n",
    "arry2 = arry[[1,5,7,2],\n",
    "             [0,3,1,2]]     # 取第1行第0列，第5行第3列，第7行第1列，第2行第2列  \n",
    "print(arry2)   "
   ]
  },
  {
   "cell_type": "code",
   "execution_count": 3,
   "id": "f59518a3",
   "metadata": {},
   "outputs": [
    {
     "name": "stdout",
     "output_type": "stream",
     "text": [
      "[[ 0  1  2  3]\n",
      " [ 4  5  6  7]\n",
      " [ 8  9 10 11]\n",
      " [12 13 14 15]\n",
      " [16 17 18 19]\n",
      " [20 21 22 23]\n",
      " [24 25 26 27]\n",
      " [28 29 30 31]\n",
      " [32 33 34 35]]\n",
      "******************************\n",
      "[[ 1  2]\n",
      " [ 5  6]\n",
      " [ 9 10]\n",
      " [13 14]\n",
      " [17 18]\n",
      " [21 22]\n",
      " [25 26]\n",
      " [29 30]\n",
      " [33 34]]\n"
     ]
    }
   ],
   "source": [
    "arry = np.arange(36).reshape(9,4)    \n",
    "print(arry)                          \n",
    "print(\"*\"*30)                      \n",
    "print(arry[:,[1,2]])           # 取所有行的，第1列和第2列"
   ]
  },
  {
   "cell_type": "code",
   "execution_count": 4,
   "id": "1205467c",
   "metadata": {},
   "outputs": [
    {
     "name": "stdout",
     "output_type": "stream",
     "text": [
      "[0 1 2 3 4 5 6 7 8 9]\n",
      "******************************\n",
      "[[0 2]\n",
      " [1 3]]\n"
     ]
    }
   ],
   "source": [
    "arry = np.arange(10)                  \n",
    "indexs = np.array([[0,2],[1,3]])        \n",
    "print(arry)                           \n",
    "print(\"*\"*30)                       \n",
    "print(arry[indexs])    "
   ]
  },
  {
   "cell_type": "markdown",
   "id": "965b7728",
   "metadata": {},
   "source": [
    "**实例：获取数组中最大的前N个数字**"
   ]
  },
  {
   "cell_type": "code",
   "execution_count": 6,
   "id": "7888122d",
   "metadata": {},
   "outputs": [
    {
     "name": "stdout",
     "output_type": "stream",
     "text": [
      "[ 8 35 34 11 46 28  2 29 71 25]\n",
      "[1 4 8]\n",
      "最大的三个数是[35 46 71]\n"
     ]
    }
   ],
   "source": [
    "# 获取数组中最大的前N个数字\n",
    "arry = np.random.randint(1,100,10)\n",
    "print(arry)\n",
    "# arry.argsort()会返回排序后的下标\n",
    "# 取最大值对应的3个下标，因为默认升序，所以要用-3,从倒数第3个到最后一个\n",
    "indexs = arry.argsort()[-3:]\n",
    "print(indexs) # 返回的是最大3个数在数组中的下标\n",
    "# 将下标传给数组\n",
    "maxThree = arry[indexs]\n",
    "print(f'最大的三个数是{maxThree}')"
   ]
  },
  {
   "cell_type": "code",
   "execution_count": null,
   "id": "3169062f",
   "metadata": {},
   "outputs": [],
   "source": []
  }
 ],
 "metadata": {
  "kernelspec": {
   "display_name": "Python 3 (ipykernel)",
   "language": "python",
   "name": "python3"
  },
  "language_info": {
   "codemirror_mode": {
    "name": "ipython",
    "version": 3
   },
   "file_extension": ".py",
   "mimetype": "text/x-python",
   "name": "python",
   "nbconvert_exporter": "python",
   "pygments_lexer": "ipython3",
   "version": "3.9.17"
  }
 },
 "nbformat": 4,
 "nbformat_minor": 5
}
