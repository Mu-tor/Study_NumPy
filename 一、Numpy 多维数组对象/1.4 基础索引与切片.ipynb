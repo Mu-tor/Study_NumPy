{
 "cells": [
  {
   "cell_type": "markdown",
   "id": "46108581",
   "metadata": {},
   "source": [
    "## 1.4 基础索引与切片"
   ]
  },
  {
   "cell_type": "markdown",
   "id": "af571749",
   "metadata": {},
   "source": [
    "**1、一维数组【与Python的列表一样】**"
   ]
  },
  {
   "cell_type": "code",
   "execution_count": 7,
   "id": "5c5eaccc",
   "metadata": {},
   "outputs": [
    {
     "name": "stdout",
     "output_type": "stream",
     "text": [
      "[0 1 2 3 4 5 6 7 8 9]\n",
      "3 5 9\n",
      "[2 3]\n"
     ]
    }
   ],
   "source": [
    "import numpy as np\n",
    "a = np.arange(10)\n",
    "print(a)\n",
    "print(a[3],a[5],a[-1])    # 返回 3 5 9\n",
    "print(a[2:4])   # 返回 array([2, 3])"
   ]
  },
  {
   "cell_type": "markdown",
   "id": "5ef767d1",
   "metadata": {},
   "source": [
    "**2、二维数组**\n",
    "\n",
    "左闭右开区间"
   ]
  },
  {
   "cell_type": "code",
   "execution_count": 15,
   "id": "ad862c25",
   "metadata": {},
   "outputs": [
    {
     "name": "stdout",
     "output_type": "stream",
     "text": [
      "A:[[ 0  1  2  3  4]\n",
      " [ 5  6  7  8  9]\n",
      " [10 11 12 13 14]\n",
      " [15 16 17 18 19]]\n",
      "\n",
      "A[0,0]:0\n",
      "\n",
      "A[-1,2]:17\n",
      "\n",
      "A[2]:[10 11 12 13 14]\n",
      "\n",
      "A[-1]:[15 16 17 18 19]\n",
      "\n",
      "A[0:-1]:[[ 0  1  2  3  4]\n",
      " [ 5  6  7  8  9]\n",
      " [10 11 12 13 14]]\n",
      "\n",
      "A[0:2,2:4]:[[2 3]\n",
      " [7 8]]\n",
      "\n",
      "A[:,2]:[ 2  7 12 17]\n"
     ]
    }
   ],
   "source": [
    "A = np.arange(20).reshape(4,-1) \n",
    "print(f'A:{A}\\n')\n",
    "\n",
    "print(f'A[0,0]:{A[0,0]}\\n')     # 取数组A的0行0列，返回值0\n",
    "print(f'A[-1,2]:{A[-1,2]}\\n')    # 取最后一行的第2列，返回值17\n",
    "print(f'A[2]:{A[2]}\\n')        # 取第2行所有的列，返回array([10, 11, 12, 13, 14])\n",
    "print(f'A[-1]:{A[-1]}\\n')       # 取最后1行\n",
    "print(f'A[0:-1]:{A[0:-1]}\\n')      # 取除了最后1行之外其它所有行\n",
    "print(f'A[0:2,2:4]:{A[0:2,2:4]}\\n')  #取0和1行，2和3列\n",
    "print(f'A[:,2]:{A[:,2]}')         # 取所有行中的第2列"
   ]
  },
  {
   "cell_type": "markdown",
   "id": "ecb71e98",
   "metadata": {},
   "source": [
    "**三、切片修改（注意：会修改原来的数组）**"
   ]
  },
  {
   "cell_type": "code",
   "execution_count": 18,
   "id": "6269406b",
   "metadata": {},
   "outputs": [
    {
     "name": "stdout",
     "output_type": "stream",
     "text": [
      "[  0   1   2   3 520 520   6   7   8   9]\n",
      "[[520 520   2   3   4]\n",
      " [  5   6   7   8   9]\n",
      " [ 10  11  12  13  14]\n",
      " [ 15  16  17  18  19]]\n"
     ]
    }
   ],
   "source": [
    "#由于Numpy经常处理大数组，避免每次都复制，所以切片修改时直接修改了数组\n",
    "a[4:6] = 520  # 返回array([  0,   1,   2,   3, 520, 520,   6,   7,   8,   9])\n",
    "A[:1,:2]=520      # 修改0行1列的两个值\n",
    "print(a)\n",
    "print(A)"
   ]
  },
  {
   "cell_type": "code",
   "execution_count": null,
   "id": "6a253667",
   "metadata": {},
   "outputs": [],
   "source": []
  }
 ],
 "metadata": {
  "kernelspec": {
   "display_name": "Python 3 (ipykernel)",
   "language": "python",
   "name": "python3"
  },
  "language_info": {
   "codemirror_mode": {
    "name": "ipython",
    "version": 3
   },
   "file_extension": ".py",
   "mimetype": "text/x-python",
   "name": "python",
   "nbconvert_exporter": "python",
   "pygments_lexer": "ipython3",
   "version": "3.9.17"
  }
 },
 "nbformat": 4,
 "nbformat_minor": 5
}
