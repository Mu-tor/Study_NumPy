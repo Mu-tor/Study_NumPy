{
 "cells": [
  {
   "attachments": {},
   "cell_type": "markdown",
   "id": "d014d2bd",
   "metadata": {},
   "source": [
    "## 1.5 布尔索引"
   ]
  },
  {
   "cell_type": "markdown",
   "id": "9164681d",
   "metadata": {},
   "source": [
    "### 1.5.1 一维数组"
   ]
  },
  {
   "cell_type": "code",
   "execution_count": 2,
   "id": "09368ccd",
   "metadata": {},
   "outputs": [
    {
     "name": "stdout",
     "output_type": "stream",
     "text": [
      "[0 1 2 3 4 5 6 7 8 9]\n",
      "[False False False False False False  True  True  True  True]\n",
      "[6 7 8 9]\n"
     ]
    }
   ],
   "source": [
    "import numpy as np\n",
    "arry = np.arange(10)\n",
    "print(arry)\n",
    "screen = arry > 5\n",
    "print(screen)   # 返回False或True\n",
    "print(arry[screen])   # 返回 [6 7 8 9]"
   ]
  },
  {
   "attachments": {},
   "cell_type": "markdown",
   "id": "4d7cf865",
   "metadata": {},
   "source": [
    "**实例1：把一维数组进行01化处理**\n",
    "\n",
    "假设这10个数字，我想让大于5的数字变成1，小于等于5的数字变成0"
   ]
  },
  {
   "cell_type": "code",
   "execution_count": 3,
   "id": "e2bdf928",
   "metadata": {},
   "outputs": [
    {
     "name": "stdout",
     "output_type": "stream",
     "text": [
      "[0 0 0 0 0 0 1 1 1 1]\n"
     ]
    }
   ],
   "source": [
    "arry[arry <= 5] = 0    # 小于5的赋值为0\n",
    "arry[arry > 5] = 1     # 大于5的赋值为1\n",
    "print(arry)"
   ]
  },
  {
   "attachments": {},
   "cell_type": "markdown",
   "id": "aaa24aae",
   "metadata": {},
   "source": [
    "**实例2：进行自增量的操作，给大于5的加上520**"
   ]
  },
  {
   "cell_type": "code",
   "execution_count": 4,
   "id": "e8a5cb97",
   "metadata": {},
   "outputs": [
    {
     "name": "stdout",
     "output_type": "stream",
     "text": [
      "[  0   1   2   3   4   5 526 527 528 529]\n"
     ]
    }
   ],
   "source": [
    "arry = np.arange(10)\n",
    "arry[arry>5] += 520\n",
    "print(arry)"
   ]
  },
  {
   "cell_type": "markdown",
   "id": "2389202e",
   "metadata": {},
   "source": [
    "### 1.5.2 二维数组"
   ]
  },
  {
   "cell_type": "code",
   "execution_count": 5,
   "id": "c531d531",
   "metadata": {},
   "outputs": [
    {
     "name": "stdout",
     "output_type": "stream",
     "text": [
      "[[ 1  2  3  4  5]\n",
      " [ 6  7  8  9 10]\n",
      " [11 12 13 14 15]\n",
      " [16 17 18 19 20]]\n",
      "[[False False False False False]\n",
      " [False False False False False]\n",
      " [ True  True  True  True  True]\n",
      " [ True  True  True  True  True]]\n",
      "[11 12 13 14 15 16 17 18 19 20]\n"
     ]
    }
   ],
   "source": [
    "arry = np.arange(1,21).reshape(4,5)\n",
    "print(arry)\n",
    "screen = arry>10\n",
    "print(screen)         # 返回一个布尔数组，即有行又有列\n",
    "print(arry[screen])    # 返回所有为True的对应数字组成的数组，以一维数组展现"
   ]
  },
  {
   "cell_type": "code",
   "execution_count": 7,
   "id": "039b195a",
   "metadata": {},
   "outputs": [
    {
     "name": "stdout",
     "output_type": "stream",
     "text": [
      "[[ 1  2  3  4  5]\n",
      " [ 6  7  8  9 10]\n",
      " [11 12 13 14 15]\n",
      " [16 17 18 19 20]]\n",
      "------------------------------\n",
      "[ 4  9 14 19]\n",
      "------------------------------\n",
      "[False  True  True  True]\n",
      "[[  1   2   3   4   5]\n",
      " [520 520 520 520 520]\n",
      " [520 520 520 520 520]\n",
      " [520 520 520 520 520]]\n"
     ]
    }
   ],
   "source": [
    "# 例：把第3例大于5的行筛选出来并重新赋值为520\n",
    "arry = np.arange(1,21).reshape(4,5)\n",
    "print(arry)\n",
    "print(\"-\"*30)\n",
    "print(arry[:,3])  # 所有行，第3列\n",
    "print(\"-\"*30)\n",
    "screen = arry[:,3] > 5  # 所有行第3列，大于5的\n",
    "print(screen)\n",
    "arry[screen] = 520\n",
    "print(arry)"
   ]
  },
  {
   "cell_type": "code",
   "execution_count": 8,
   "id": "439f5c70",
   "metadata": {},
   "outputs": [
    {
     "name": "stdout",
     "output_type": "stream",
     "text": [
      "[[10 20 30]\n",
      " [50 40 10]\n",
      " [10  1 10]]\n",
      "[[False False  True]\n",
      " [ True  True False]\n",
      " [False False False]]\n",
      "[30 50 40]\n"
     ]
    }
   ],
   "source": [
    "arry= np.array([[10,20,30],[50,40,10],[10,1,10]])\n",
    "print(arry)\n",
    "screen= arry>25\n",
    "print(screen)\n",
    "print(arry[screen])"
   ]
  },
  {
   "cell_type": "markdown",
   "id": "e71c5e85",
   "metadata": {},
   "source": [
    "**条件组合：找出偶数或小于7的数**"
   ]
  },
  {
   "cell_type": "code",
   "execution_count": 9,
   "id": "5882b683",
   "metadata": {},
   "outputs": [
    {
     "name": "stdout",
     "output_type": "stream",
     "text": [
      "[0 1 2 3 4 5 6 7 8 9]\n",
      "------------------------------\n",
      "[ True  True  True  True  True  True  True False  True False]\n",
      "------------------------------\n",
      "[0 1 2 3 4 5 6 8]\n"
     ]
    }
   ],
   "source": [
    "arry= np.arange(10)\n",
    "print(arry)\n",
    "print(\"-\"*30)\n",
    "screen = (arry%2==0) | (arry<7)\n",
    "print(screen)\n",
    "print(\"-\"*30)\n",
    "print(arry[screen])\n"
   ]
  },
  {
   "cell_type": "code",
   "execution_count": null,
   "id": "98e2e08c",
   "metadata": {},
   "outputs": [],
   "source": []
  }
 ],
 "metadata": {
  "kernelspec": {
   "display_name": "Python 3 (ipykernel)",
   "language": "python",
   "name": "python3"
  },
  "language_info": {
   "codemirror_mode": {
    "name": "ipython",
    "version": 3
   },
   "file_extension": ".py",
   "mimetype": "text/x-python",
   "name": "python",
   "nbconvert_exporter": "python",
   "pygments_lexer": "ipython3",
   "version": "3.9.17"
  }
 },
 "nbformat": 4,
 "nbformat_minor": 5
}
