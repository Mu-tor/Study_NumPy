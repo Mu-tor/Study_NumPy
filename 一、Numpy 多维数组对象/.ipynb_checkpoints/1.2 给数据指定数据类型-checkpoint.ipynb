{
 "cells": [
  {
   "attachments": {},
   "cell_type": "markdown",
   "id": "162e415e",
   "metadata": {},
   "source": [
    "## 1.2 给数据指定数据类型"
   ]
  },
  {
   "cell_type": "code",
   "execution_count": 1,
   "id": "88effab1",
   "metadata": {},
   "outputs": [
    {
     "name": "stdout",
     "output_type": "stream",
     "text": [
      "[1. 2. 3. 4. 5. 6. 7.]\n",
      "[1. 2. 3. 4. 5. 6. 7.]\n",
      "float64\n",
      "float32\n",
      "<class 'numpy.ndarray'>\n",
      "<class 'numpy.ndarray'>\n"
     ]
    }
   ],
   "source": [
    "import numpy as np\n",
    "a = np.array(range(1,8),dtype=float)       # 修改数据类型\n",
    "b = np.array(range(1,8),dtype='float32') # 修改数据类型和位数\n",
    "print(a)\n",
    "print(b)\n",
    "print(a.dtype)\n",
    "print(b.dtype)\n",
    "print(type(a))\n",
    "print(type(b))"
   ]
  },
  {
   "cell_type": "code",
   "execution_count": null,
   "id": "8eeb6ae1",
   "metadata": {},
   "outputs": [],
   "source": []
  }
 ],
 "metadata": {
  "kernelspec": {
   "display_name": "Python 3 (ipykernel)",
   "language": "python",
   "name": "python3"
  },
  "language_info": {
   "codemirror_mode": {
    "name": "ipython",
    "version": 3
   },
   "file_extension": ".py",
   "mimetype": "text/x-python",
   "name": "python",
   "nbconvert_exporter": "python",
   "pygments_lexer": "ipython3",
   "version": "3.9.17"
  }
 },
 "nbformat": 4,
 "nbformat_minor": 5
}
