{
 "cells": [
  {
   "cell_type": "markdown",
   "id": "11885f3e",
   "metadata": {},
   "source": [
    "# Numpy多维数组对象"
   ]
  },
  {
   "attachments": {},
   "cell_type": "markdown",
   "id": "f0966935",
   "metadata": {},
   "source": [
    "## 1.1 创建数组的方法"
   ]
  },
  {
   "cell_type": "code",
   "execution_count": 38,
   "id": "e74e2bb6",
   "metadata": {},
   "outputs": [
    {
     "name": "stdout",
     "output_type": "stream",
     "text": [
      "[1 2 3 4 5]\n",
      "[1 2 3 4 5]\n",
      "[1 2 3 4 5]\n",
      "int32\n",
      "<class 'numpy.ndarray'>\n"
     ]
    }
   ],
   "source": [
    "import numpy as np\n",
    "a = np.array([1,2,3,4,5])\n",
    "b = np.array(range(1,6))\n",
    "c = np.arange(1,6)\n",
    "print(a)\n",
    "print(b)\n",
    "print(c)\n",
    "print(a.dtype)\n",
    "print(type(a))"
   ]
  },
  {
   "attachments": {},
   "cell_type": "markdown",
   "id": "1cfee5aa",
   "metadata": {},
   "source": [
    "以上三种方法结果是一样的，注意一下输入结果是数组\n",
    "\n",
    "array：将输入数据（可以是列表、元组、数组以及其它序列）转换为ndarray(Numpy数组)，如不显示指明数据类型，将自动推断，默认复制所有输入数据。\n",
    "arange：Python内建函数range的数组版，返回一个数组。"
   ]
  },
  {
   "attachments": {},
   "cell_type": "markdown",
   "id": "31964bc8",
   "metadata": {},
   "source": [
    "**array的属性：**\n",
    "- shape：返回一个元组，表示 array的维度 [形状，几行几列] （2，3）两行三列，（2，2，3）两个两行三列\n",
    "- ndim：返回一个数字，表示array的维度的数目\n",
    "- size：返回一个数字，表示array中所有数据元素的数目\n",
    "- dtype：返回array中元素的数据类型"
   ]
  },
  {
   "attachments": {},
   "cell_type": "markdown",
   "id": "2f521159",
   "metadata": {},
   "source": [
    "### 1.1.1 arange 创建数字序列"
   ]
  },
  {
   "attachments": {},
   "cell_type": "markdown",
   "id": "e4b43843",
   "metadata": {},
   "source": [
    "使用arange创建数字序列：\n",
    "np.arange([开始,]结束[,步长],dtype=None)\n",
    "\n",
    "np.arange(5)           返回 array([0,1,2,3,4])\n",
    "\n",
    "np.arange(1,10,2)   返回 array([1,3,5,7,9])"
   ]
  },
  {
   "attachments": {},
   "cell_type": "markdown",
   "id": "7aec9ceb",
   "metadata": {},
   "source": [
    "### 1.1.2 使用ones创建全是1的数组"
   ]
  },
  {
   "cell_type": "code",
   "execution_count": 39,
   "id": "80f612dd",
   "metadata": {},
   "outputs": [
    {
     "name": "stdout",
     "output_type": "stream",
     "text": [
      "a=[1. 1. 1.]\n",
      "b=[[1. 1. 1.]\n",
      " [1. 1. 1.]]\n",
      "c=[1 1 1 1 1]\n"
     ]
    }
   ],
   "source": [
    "# np.ones(shape,dtype=None,order='C')\n",
    "\n",
    "a=np.ones(3)       # 返回 array([1. 1. 1.])\n",
    "print(f'a={a}')\n",
    "\n",
    "b=np.ones((2,3))\n",
    "print(f'b={b}')\n",
    "\n",
    "c=np.ones((5,), dtype=np.int32)  # 返回 [1 1 1 1 1]\n",
    "print(f'c={c}')"
   ]
  },
  {
   "cell_type": "markdown",
   "id": "1a3b0942",
   "metadata": {},
   "source": [
    "参数：\n",
    "shape：整数或者整型元组定义返回数组的形状；可以是一个数（创建一维向量），也可以是一个元组（创建多维向量）\n",
    "\n",
    "dtype : 数据类型，可选定义返回数组的类型。\n",
    "\n",
    "order : {‘C’, ‘F’}, 可选规定返回数组元素在内存的存储顺序：C（C语言）-rowmajor；F（Fortran）column-major。\n"
   ]
  },
  {
   "attachments": {},
   "cell_type": "markdown",
   "id": "68f2ede8",
   "metadata": {},
   "source": [
    "### 1.1.3 ones_like创建形状相同的数组"
   ]
  },
  {
   "attachments": {},
   "cell_type": "markdown",
   "id": "d4bc6d47",
   "metadata": {},
   "source": [
    "np.ones_like(a,dtype=float,order='C',subok=True)\n",
    "\n",
    "返回：与a相同形状和数据类型的数组，并且数组中的值都为1\n",
    "\n",
    "\n",
    "参数：\n",
    "a：用a的形状和数据类型，来定义返回数组的属性\n",
    "\n",
    "dtype ： 数据类型，可选\n",
    "\n",
    "order顺序 ： {'C'，'F'，'A'或'K'}，可选,覆盖结果的内存布局。\n",
    "\n",
    "subok ： bool，可选。True：使用a的内部数据类型，False：使用a数组的数据类型，默认为True"
   ]
  },
  {
   "attachments": {},
   "cell_type": "markdown",
   "id": "59e6c7a0",
   "metadata": {},
   "source": [
    "**案例1:以下数组是x**"
   ]
  },
  {
   "cell_type": "code",
   "execution_count": 40,
   "id": "2b00bb3d",
   "metadata": {},
   "outputs": [
    {
     "data": {
      "text/plain": [
       "array([[1, 1, 1],\n",
       "       [1, 1, 1]])"
      ]
     },
     "execution_count": 40,
     "metadata": {},
     "output_type": "execute_result"
    }
   ],
   "source": [
    "x = np.array([[0, 1, 2],\n",
    "       [3, 4, 5]])\n",
    "\n",
    "np.ones_like(x)"
   ]
  },
  {
   "attachments": {},
   "cell_type": "markdown",
   "id": "8ba23aa9",
   "metadata": {},
   "source": [
    "### 1.1.4 zeros 创建全是0的数组"
   ]
  },
  {
   "attachments": {},
   "cell_type": "markdown",
   "id": "b87b4b9c",
   "metadata": {},
   "source": [
    "np.zeros(shape,dtype=None,order='C')\n",
    "\n",
    "参数：\n",
    "shape：整数或者整型元组定义返回数组的形状；可以是一个数（创建一维向量），也可以是一个元组（创建多维向量）\n",
    "\n",
    "dtype : 数据类型，可选定义返回数组的类型。\n",
    "\n",
    "order : {‘C’, ‘F’}, 可选规定返回数组元素在内存的存储顺序：C（C语言）-rowmajor；F（Fortran）column-major。"
   ]
  },
  {
   "cell_type": "code",
   "execution_count": 41,
   "id": "7d86deec",
   "metadata": {},
   "outputs": [
    {
     "data": {
      "text/plain": [
       "array([0., 0., 0., 0., 0., 0., 0., 0., 0., 0.])"
      ]
     },
     "execution_count": 41,
     "metadata": {},
     "output_type": "execute_result"
    }
   ],
   "source": [
    "np.zeros(10)  # 返回[0., 0., 0., 0., 0., 0., 0., 0., 0., 0.]"
   ]
  },
  {
   "cell_type": "code",
   "execution_count": 42,
   "id": "769b02ed",
   "metadata": {},
   "outputs": [
    {
     "data": {
      "text/plain": [
       "array([[[0., 0., 0., 0.]],\n",
       "\n",
       "       [[0., 0., 0., 0.]]])"
      ]
     },
     "execution_count": 42,
     "metadata": {},
     "output_type": "execute_result"
    }
   ],
   "source": [
    "np.zeros((2,1,4))"
   ]
  },
  {
   "attachments": {},
   "cell_type": "markdown",
   "id": "50a01477",
   "metadata": {},
   "source": [
    "### 1.1.5 zeros_like创建形状相同的数组"
   ]
  },
  {
   "cell_type": "markdown",
   "id": "a8ac5042",
   "metadata": {},
   "source": [
    "同ones_like()"
   ]
  },
  {
   "cell_type": "code",
   "execution_count": 43,
   "id": "4288040d",
   "metadata": {},
   "outputs": [
    {
     "data": {
      "text/plain": [
       "array([[0, 0, 0],\n",
       "       [0, 0, 0]])"
      ]
     },
     "execution_count": 43,
     "metadata": {},
     "output_type": "execute_result"
    }
   ],
   "source": [
    "x = np.array([[0, 1, 2],\n",
    "              [3, 4, 5]])\n",
    "\n",
    "np.zeros_like(x)"
   ]
  },
  {
   "cell_type": "code",
   "execution_count": 44,
   "id": "07c77e55",
   "metadata": {},
   "outputs": [
    {
     "data": {
      "text/plain": [
       "array([0., 0., 0.])"
      ]
     },
     "execution_count": 44,
     "metadata": {},
     "output_type": "execute_result"
    }
   ],
   "source": [
    "y = np.array([ 0.,  1.,  2.])\n",
    "\n",
    "np.zeros_like(y)"
   ]
  },
  {
   "attachments": {},
   "cell_type": "markdown",
   "id": "de990459",
   "metadata": {},
   "source": [
    "### 1.1.6 full创建指定值的数组"
   ]
  },
  {
   "attachments": {},
   "cell_type": "markdown",
   "id": "2f12ed0a",
   "metadata": {},
   "source": [
    "np.full(shape,fill_value,dtype=None,order='C')\n",
    "\n",
    "参数：\n",
    "shape：整数或者整型元组定义返回数组的形状；可以是一个数（创建一维向量），也可以是一个元组（创建多维向量）\n",
    "fill_value：标量（就是纯数值变量）\n",
    "dtype : 数据类型，可选定义返回数组的类型。\n",
    "order : {‘C’, ‘F’}, 可选规定返回数组元素在内存的存储顺序：C（C语言）-rowmajor；F（Fortran）column-major。"
   ]
  },
  {
   "cell_type": "code",
   "execution_count": 45,
   "id": "de905100",
   "metadata": {},
   "outputs": [
    {
     "data": {
      "text/plain": [
       "array([[520, 520, 520, 520],\n",
       "       [520, 520, 520, 520]])"
      ]
     },
     "execution_count": 45,
     "metadata": {},
     "output_type": "execute_result"
    }
   ],
   "source": [
    "np.full((2,4),520)"
   ]
  },
  {
   "attachments": {},
   "cell_type": "markdown",
   "id": "d5b15edb",
   "metadata": {},
   "source": [
    "### 1.1.7 full_like创建开关相同的指定值数组"
   ]
  },
  {
   "attachments": {},
   "cell_type": "markdown",
   "id": "082f145b",
   "metadata": {},
   "source": [
    "np.full_like(a,fill_value,dype=None)\n",
    "\n",
    "同ones_like"
   ]
  },
  {
   "cell_type": "code",
   "execution_count": 46,
   "id": "090aa3eb",
   "metadata": {},
   "outputs": [
    {
     "data": {
      "text/plain": [
       "array([[250, 250, 250],\n",
       "       [250, 250, 250]])"
      ]
     },
     "execution_count": 46,
     "metadata": {},
     "output_type": "execute_result"
    }
   ],
   "source": [
    "x = np.array([[0, 1, 2],\n",
    "              [3, 4, 5]])\n",
    "np.full_like(x, 250)"
   ]
  },
  {
   "cell_type": "code",
   "execution_count": 47,
   "id": "e2af83f2",
   "metadata": {},
   "outputs": [
    {
     "data": {
      "text/plain": [
       "array([250., 250., 250.])"
      ]
     },
     "execution_count": 47,
     "metadata": {},
     "output_type": "execute_result"
    }
   ],
   "source": [
    "y = np.array([0., 1., 2.])\n",
    "\n",
    "np.full_like(y, 250)"
   ]
  },
  {
   "attachments": {},
   "cell_type": "markdown",
   "id": "4b0c5a4b",
   "metadata": {},
   "source": [
    "### 1.1.8 使用random模块生成随机数组"
   ]
  },
  {
   "cell_type": "code",
   "execution_count": 48,
   "id": "dcaf7e25",
   "metadata": {},
   "outputs": [],
   "source": [
    "import random\n",
    "# np.random.randn(d0,d1,...,dn)"
   ]
  },
  {
   "cell_type": "code",
   "execution_count": 49,
   "id": "b2dd7e30",
   "metadata": {},
   "outputs": [
    {
     "name": "stdout",
     "output_type": "stream",
     "text": [
      "a:0.07017359288649895\n",
      "\n",
      " b:[-0.30153781  0.8491113   0.89531935]\n",
      "\n",
      " c:[[1.06678164 1.36130638]\n",
      " [0.96265266 0.07574411]\n",
      " [0.02882918 0.23737567]]\n",
      "\n",
      " d:[[[ 0.58512846 -0.21460069  1.45875609  1.15483264]\n",
      "  [-1.47300173 -1.04698243  0.60674618 -0.59892494]]\n",
      "\n",
      " [[ 0.51835527  1.07548691  0.78991502  0.83120194]\n",
      "  [ 0.08834029  1.81220588  0.28411656 -0.49295447]]\n",
      "\n",
      " [[-0.46469549  0.29353344  0.13879796  1.30809717]\n",
      "  [-0.10492631 -0.26019173  0.84401964 -0.17029314]]]\n"
     ]
    }
   ],
   "source": [
    "a = np.random.randn()      # 一个随机数\n",
    "b = np.random.randn(3)     # 3个数\n",
    "c = np.random.randn(3,2)   # 3行2列\n",
    "d = np.random.randn(3,2,4) # 3维矩阵\n",
    "print(f'a:{a}\\n\\n b:{b}\\n\\n c:{c}\\n\\n d:{d}')"
   ]
  },
  {
   "cell_type": "code",
   "execution_count": 50,
   "id": "ff52717b",
   "metadata": {},
   "outputs": [
    {
     "data": {
      "text/plain": [
       "0.07"
      ]
     },
     "execution_count": 50,
     "metadata": {},
     "output_type": "execute_result"
    }
   ],
   "source": [
    "#需要四舍五入!\n",
    "np.round(a, 2)  #变量a保留小数点后两位"
   ]
  },
  {
   "cell_type": "code",
   "execution_count": null,
   "id": "5a723d8c",
   "metadata": {},
   "outputs": [],
   "source": []
  }
 ],
 "metadata": {
  "kernelspec": {
   "display_name": "Python 3 (ipykernel)",
   "language": "python",
   "name": "python3"
  },
  "language_info": {
   "codemirror_mode": {
    "name": "ipython",
    "version": 3
   },
   "file_extension": ".py",
   "mimetype": "text/x-python",
   "name": "python",
   "nbconvert_exporter": "python",
   "pygments_lexer": "ipython3",
   "version": "3.9.17"
  }
 },
 "nbformat": 4,
 "nbformat_minor": 5
}
