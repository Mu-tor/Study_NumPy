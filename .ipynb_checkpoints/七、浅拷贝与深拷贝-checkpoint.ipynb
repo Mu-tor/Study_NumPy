{
 "cells": [
  {
   "attachments": {},
   "cell_type": "markdown",
   "id": "252a077b",
   "metadata": {},
   "source": [
    "**浅拷贝**\n",
    "\n",
    "a=b  不能这样赋值，因为a和b相互影响，在内存里a变了b也会发生变化 \n",
    "\n",
    "a=b[:] 视图操作，一种切片，会创建新的对象a，但是a的数据完全由b保管，他们两个的数据变化是一致的"
   ]
  },
  {
   "cell_type": "code",
   "execution_count": 2,
   "id": "a79b15a5",
   "metadata": {},
   "outputs": [
    {
     "name": "stdout",
     "output_type": "stream",
     "text": [
      "[0 1 2 3 4 5 6 7 8 9]\n",
      "[0 1 2 3 4 6 6 7 8 9]\n",
      "[0 1 2 3 4 6 6 7 8 9]\n"
     ]
    }
   ],
   "source": [
    "import numpy as np\n",
    "a = np.arange(10)\n",
    "b = a      # 浅拷贝，a，b值会相互影响\n",
    "c = b[:]\n",
    "print(b)\n",
    "a[5] = 6\n",
    "print(b)\n",
    "print(c)"
   ]
  },
  {
   "cell_type": "markdown",
   "id": "1142094f",
   "metadata": {},
   "source": [
    "**深拷贝**\n",
    "\n",
    "a=b.copy() 复制，a和b互不影响，相当于是重新开辟了一个空间保存b的值，然后让a指向b.copy()"
   ]
  },
  {
   "cell_type": "code",
   "execution_count": 3,
   "id": "130f12bd",
   "metadata": {},
   "outputs": [
    {
     "name": "stdout",
     "output_type": "stream",
     "text": [
      "[0 1 2 3 4 6 6 7 8 9]\n"
     ]
    }
   ],
   "source": [
    "d = a.copy()\n",
    "a[0] = 8\n",
    "print(d)"
   ]
  },
  {
   "cell_type": "code",
   "execution_count": null,
   "id": "49f89cc2",
   "metadata": {},
   "outputs": [],
   "source": []
  }
 ],
 "metadata": {
  "kernelspec": {
   "display_name": "Python 3 (ipykernel)",
   "language": "python",
   "name": "python3"
  },
  "language_info": {
   "codemirror_mode": {
    "name": "ipython",
    "version": 3
   },
   "file_extension": ".py",
   "mimetype": "text/x-python",
   "name": "python",
   "nbconvert_exporter": "python",
   "pygments_lexer": "ipython3",
   "version": "3.9.17"
  }
 },
 "nbformat": 4,
 "nbformat_minor": 5
}
