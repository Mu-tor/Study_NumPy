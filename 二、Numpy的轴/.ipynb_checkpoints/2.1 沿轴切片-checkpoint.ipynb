{
 "cells": [
  {
   "cell_type": "code",
   "execution_count": 1,
   "id": "f0ce96c0",
   "metadata": {},
   "outputs": [
    {
     "name": "stdout",
     "output_type": "stream",
     "text": [
      "[[1 2 3]\n",
      " [4 5 6]\n",
      " [7 8 9]]\n",
      "(3, 3)\n"
     ]
    }
   ],
   "source": [
    "import numpy as np\n",
    "arry=np.array([  [1,2,3] , [4,5,6] , [7,8,9]  ])\n",
    "print(arry)\n",
    "print(arry.shape)"
   ]
  },
  {
   "attachments": {},
   "cell_type": "markdown",
   "id": "aacae660",
   "metadata": {},
   "source": [
    "数组的维度是（3，3），这个元组的索引是 [0,1]，表示这个2维数组有两条轴：0轴和1轴"
   ]
  },
  {
   "cell_type": "code",
   "execution_count": 2,
   "id": "da5dda5d",
   "metadata": {},
   "outputs": [
    {
     "name": "stdout",
     "output_type": "stream",
     "text": [
      "[[1 2 3]\n",
      " [4 5 6]]\n"
     ]
    }
   ],
   "source": [
    "# 首先看1个参数的切片操作：\n",
    "print(arry[:2])"
   ]
  },
  {
   "attachments": {},
   "cell_type": "markdown",
   "id": "15af4d32",
   "metadata": {},
   "source": [
    "这里有个很重要的概念， :2 是切片的第一个参数，约定俗成第一个参数就代表0轴\n",
    "0轴表示2维，所以这个切片是在2维这个维度上切的，又叫“沿0轴切”。"
   ]
  },
  {
   "attachments": {},
   "cell_type": "markdown",
   "id": "4208e468",
   "metadata": {},
   "source": [
    "这个2维数据是由3个1维数组组成的，这3个1维数组当然也有索引号也是[0,1,2]，[ :2 ] 就表示它要切取2维（0轴）上3个1维数组中的索引 [ 0 ] 和索引 [ 1 ] ，于是得到 ([ 1, 2, 3 ]) 和 ([ 4, 5, 6 ]) 这两个1维数组。"
   ]
  },
  {
   "cell_type": "code",
   "execution_count": 3,
   "id": "b9b4e255",
   "metadata": {},
   "outputs": [
    {
     "name": "stdout",
     "output_type": "stream",
     "text": [
      "[[2 3]\n",
      " [5 6]]\n"
     ]
    }
   ],
   "source": [
    "# 接着看2个参数的切片操作：\n",
    "print(arry[:2,1:])"
   ]
  },
  {
   "attachments": {},
   "cell_type": "markdown",
   "id": "c22aa953",
   "metadata": {},
   "source": [
    "就是在两个维度（轴）上各切一刀，第1个参数就是2维（0轴）， 第2个参数就是1维（1轴）\n",
    "\n",
    ":2 表示切取2维（0轴）上的索引 [ 0 ] 和索引 [ 1 ] ，即 ([ 1, 2, 3 ]) 和 ([ 4, 5, 6 ]) 这两个1维数组\n",
    "\n",
    "1: 表示切取1维（1轴）上的索引 [ 1 ] 和索引 [ 2 ] ，即对数组 ([ 1, 2, 3 ]) 取 ([ 2,3 ]) ，对数组 ([ 4, 5, 6 ]) 取 ([ 5,6 ]) "
   ]
  },
  {
   "cell_type": "code",
   "execution_count": null,
   "id": "0b5263f7",
   "metadata": {},
   "outputs": [],
   "source": []
  }
 ],
 "metadata": {
  "kernelspec": {
   "display_name": "Python 3 (ipykernel)",
   "language": "python",
   "name": "python3"
  },
  "language_info": {
   "codemirror_mode": {
    "name": "ipython",
    "version": 3
   },
   "file_extension": ".py",
   "mimetype": "text/x-python",
   "name": "python",
   "nbconvert_exporter": "python",
   "pygments_lexer": "ipython3",
   "version": "3.9.17"
  }
 },
 "nbformat": 4,
 "nbformat_minor": 5
}
