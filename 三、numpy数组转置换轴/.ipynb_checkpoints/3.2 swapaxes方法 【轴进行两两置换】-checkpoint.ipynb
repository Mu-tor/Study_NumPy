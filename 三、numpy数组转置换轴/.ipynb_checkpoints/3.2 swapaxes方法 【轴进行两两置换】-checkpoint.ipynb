{
 "cells": [
  {
   "attachments": {},
   "cell_type": "markdown",
   "id": "f40a04d0",
   "metadata": {},
   "source": [
    "## 3.2 swapaxes方法 【轴进行两两置换】\n",
    "相当于按轴进行翻转"
   ]
  },
  {
   "cell_type": "code",
   "execution_count": 1,
   "id": "154164c5",
   "metadata": {},
   "outputs": [
    {
     "name": "stdout",
     "output_type": "stream",
     "text": [
      "[[ 0  1  2  3  4  5]\n",
      " [ 6  7  8  9 10 11]\n",
      " [12 13 14 15 16 17]\n",
      " [18 19 20 21 22 23]]\n",
      "------------------------------\n",
      "[[ 0  6 12 18]\n",
      " [ 1  7 13 19]\n",
      " [ 2  8 14 20]\n",
      " [ 3  9 15 21]\n",
      " [ 4 10 16 22]\n",
      " [ 5 11 17 23]]\n"
     ]
    }
   ],
   "source": [
    "import numpy as np\n",
    "arry=np.arange(24).reshape((4,6))\n",
    "print(arry)\n",
    "print(\"-\"*30)\n",
    "print(arry.swapaxes(1,0))\n"
   ]
  },
  {
   "cell_type": "code",
   "execution_count": null,
   "id": "741098cd",
   "metadata": {},
   "outputs": [],
   "source": []
  }
 ],
 "metadata": {
  "kernelspec": {
   "display_name": "Python 3 (ipykernel)",
   "language": "python",
   "name": "python3"
  },
  "language_info": {
   "codemirror_mode": {
    "name": "ipython",
    "version": 3
   },
   "file_extension": ".py",
   "mimetype": "text/x-python",
   "name": "python",
   "nbconvert_exporter": "python",
   "pygments_lexer": "ipython3",
   "version": "3.9.17"
  }
 },
 "nbformat": 4,
 "nbformat_minor": 5
}
