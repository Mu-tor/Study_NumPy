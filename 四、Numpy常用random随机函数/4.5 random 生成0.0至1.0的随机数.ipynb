{
 "cells": [
  {
   "attachments": {},
   "cell_type": "markdown",
   "id": "cfafe3bd",
   "metadata": {},
   "source": [
    "## 4.5 random 生成0.0至1.0的随机数"
   ]
  },
  {
   "cell_type": "code",
   "execution_count": 1,
   "id": "7d659aea",
   "metadata": {},
   "outputs": [
    {
     "name": "stdout",
     "output_type": "stream",
     "text": [
      "生成3个0.0至1.0的随机数:\n",
      "[0.57827335 0.53585466 0.89187851]\n",
      "生成2行3列共6个数的0.0至1.0的随机数:\n",
      "[[0.08623409 0.04335765 0.5897903 ]\n",
      " [0.13711347 0.26434175 0.24267606]]\n",
      "生成三块2行3列，每块6个数的0.0至1.0的随机数:\n",
      "[[[0.024504   0.20962485 0.4917007 ]\n",
      "  [0.44735692 0.45380374 0.46247865]]\n",
      "\n",
      " [[0.070929   0.45350552 0.20297969]\n",
      "  [0.52232941 0.12457884 0.72034471]]\n",
      "\n",
      " [[0.73553889 0.77585566 0.29371484]\n",
      "  [0.96132171 0.15401922 0.92272824]]]\n"
     ]
    }
   ],
   "source": [
    "import numpy as np\n",
    "d1 = np.random.random(3)\n",
    "print(f'生成3个0.0至1.0的随机数:\\n{d1}')\n",
    "d2 = np.random.random(size=(2,3))\n",
    "print(f'生成2行3列共6个数的0.0至1.0的随机数:\\n{d2}')\n",
    "d3 = np.random.random(size=(3,2,3))\n",
    "print(f'生成三块2行3列，每块6个数的0.0至1.0的随机数:\\n{d3}')"
   ]
  },
  {
   "cell_type": "code",
   "execution_count": null,
   "id": "35d41161",
   "metadata": {},
   "outputs": [],
   "source": []
  }
 ],
 "metadata": {
  "kernelspec": {
   "display_name": "Python 3 (ipykernel)",
   "language": "python",
   "name": "python3"
  },
  "language_info": {
   "codemirror_mode": {
    "name": "ipython",
    "version": 3
   },
   "file_extension": ".py",
   "mimetype": "text/x-python",
   "name": "python",
   "nbconvert_exporter": "python",
   "pygments_lexer": "ipython3",
   "version": "3.9.17"
  }
 },
 "nbformat": 4,
 "nbformat_minor": 5
}
