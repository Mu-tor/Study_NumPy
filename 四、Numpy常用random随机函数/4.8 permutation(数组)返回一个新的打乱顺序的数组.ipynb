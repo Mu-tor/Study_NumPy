{
 "cells": [
  {
   "cell_type": "markdown",
   "id": "4043dd07",
   "metadata": {},
   "source": [
    "## 4.8 permutation(数组)返回一个新的打乱顺序的数组"
   ]
  },
  {
   "cell_type": "code",
   "execution_count": 2,
   "id": "e5821479",
   "metadata": {},
   "outputs": [
    {
     "name": "stdout",
     "output_type": "stream",
     "text": [
      "[5 3 8 9 0 6 1 4 7 2]\n",
      "没有随机排列前的二维数组是\n",
      "[[0 1 2]\n",
      " [3 4 5]\n",
      " [6 7 8]]\n",
      "\n",
      "随机排列后的二维数组是\n",
      "[[3 4 5]\n",
      " [0 1 2]\n",
      " [6 7 8]]\n",
      "\n",
      "看一下原来的二维数组变了吗？\n",
      "[[0 1 2]\n",
      " [3 4 5]\n",
      " [6 7 8]]\n"
     ]
    }
   ],
   "source": [
    "import numpy as np\n",
    "# 与上面讲的np.random.shuffle(一维数组)效果一样,就是把一维数组重新排序了\n",
    "排列 = np.random.permutation(10)    # 这里的10就看成是range(10)\n",
    "print(排列)\n",
    "\n",
    "import numpy as np\n",
    "二维数组 = np.arange(9).reshape((3,3))\n",
    "print(f'没有随机排列前的二维数组是\\n{二维数组}\\n')\n",
    "排序后 = np.random.permutation(二维数组)\n",
    "print(f'随机排列后的二维数组是\\n{排序后}\\n')\n",
    "print(f'看一下原来的二维数组变了吗？\\n{二维数组}')"
   ]
  },
  {
   "cell_type": "code",
   "execution_count": null,
   "id": "06c968f2",
   "metadata": {},
   "outputs": [],
   "source": []
  }
 ],
 "metadata": {
  "kernelspec": {
   "display_name": "Python 3 (ipykernel)",
   "language": "python",
   "name": "python3"
  },
  "language_info": {
   "codemirror_mode": {
    "name": "ipython",
    "version": 3
   },
   "file_extension": ".py",
   "mimetype": "text/x-python",
   "name": "python",
   "nbconvert_exporter": "python",
   "pygments_lexer": "ipython3",
   "version": "3.9.17"
  }
 },
 "nbformat": 4,
 "nbformat_minor": 5
}
