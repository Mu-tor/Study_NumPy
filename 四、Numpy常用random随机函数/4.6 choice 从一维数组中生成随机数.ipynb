{
 "cells": [
  {
   "attachments": {},
   "cell_type": "markdown",
   "id": "83b66753",
   "metadata": {},
   "source": [
    "4.6 choice 从一维数组中生成随机数"
   ]
  },
  {
   "cell_type": "code",
   "execution_count": 2,
   "id": "03ebfcc0",
   "metadata": {},
   "outputs": [
    {
     "name": "stdout",
     "output_type": "stream",
     "text": [
      "从range(5)中拿随机数，生成只有3个元素的一维数组是：[4 1 1]\n",
      "从range(5)中拿随机数，生成2行3列的数组是：\n",
      "[[2 3 1]\n",
      " [2 1 4]]\n",
      "从[1,2,9,4,8,6,7,5]数组中拿随机数，3个元素：[4 8 5]\n",
      "从[1,2,9,4,8,6,7,5]数组中拿随机数，生成2行3列的数组是：\n",
      "[[8 7 5]\n",
      " [4 6 8]]\n"
     ]
    }
   ],
   "source": [
    "import numpy as np\n",
    "# 第一参数是一个1维数组，如果只有一个数字那就看成range(5)\n",
    "# 第二参数是维度和元素个数，一个数字是1维，数字是几就是几个元素\n",
    "a = np.random.choice(5,3)\n",
    "print(f'从range(5)中拿随机数，生成只有3个元素的一维数组是：{a}')\n",
    "\n",
    "import numpy as np\n",
    "b = np.random.choice(5,(2,3))\n",
    "print(f'从range(5)中拿随机数，生成2行3列的数组是：\\n{b}')\n",
    "\n",
    "import numpy as np\n",
    "c = np.random.choice([1,2,9,4,8,6,7,5],3)\n",
    "print(f'从[1,2,9,4,8,6,7,5]数组中拿随机数，3个元素：{c}')\n",
    "\n",
    "import numpy as np\n",
    "d = np.random.choice([1,2,9,4,8,6,7,5],(2,3))\n",
    "print(f'从[1,2,9,4,8,6,7,5]数组中拿随机数，生成2行3列的数组是：\\n{d}')\n"
   ]
  },
  {
   "cell_type": "code",
   "execution_count": null,
   "id": "eff9b1f4",
   "metadata": {},
   "outputs": [],
   "source": []
  }
 ],
 "metadata": {
  "kernelspec": {
   "display_name": "Python 3 (ipykernel)",
   "language": "python",
   "name": "python3"
  },
  "language_info": {
   "codemirror_mode": {
    "name": "ipython",
    "version": 3
   },
   "file_extension": ".py",
   "mimetype": "text/x-python",
   "name": "python",
   "nbconvert_exporter": "python",
   "pygments_lexer": "ipython3",
   "version": "3.9.17"
  }
 },
 "nbformat": 4,
 "nbformat_minor": 5
}
