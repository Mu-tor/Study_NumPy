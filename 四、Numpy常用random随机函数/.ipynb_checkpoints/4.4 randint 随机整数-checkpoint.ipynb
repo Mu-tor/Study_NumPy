{
 "cells": [
  {
   "attachments": {},
   "cell_type": "markdown",
   "id": "123aec42",
   "metadata": {},
   "source": [
    "## 4.4 randint 随机整数"
   ]
  },
  {
   "cell_type": "code",
   "execution_count": 1,
   "id": "1cd04ab2",
   "metadata": {},
   "outputs": [
    {
     "name": "stdout",
     "output_type": "stream",
     "text": [
      "随机0至3之间的整数是：0\n",
      "随机1至10之间的整数是：4\n",
      "随机1至10之间取5个元素组成一维数组[2 6 3 9 4]\n",
      "随机1至20之间取12个元素组成二维数组：\n",
      "[[ 2  2 19  8]\n",
      " [14 15 19  8]\n",
      " [15  1 18  6]]\n",
      "随机1至20之间取24个元素组成三维数组：\n",
      "[[[17  2 15  1]\n",
      "  [16 19  5  4]\n",
      "  [15  3  7  8]]\n",
      "\n",
      " [[14 17 12  1]\n",
      "  [17 17  3  6]\n",
      "  [ 7 13 12 15]]]\n"
     ]
    }
   ],
   "source": [
    "import numpy as np\n",
    "a = np.random.randint(3)  \n",
    "print(f'随机0至3之间的整数是：{a}')\n",
    "b = np.random.randint(1,10)  \n",
    "print(f'随机1至10之间的整数是：{b}')   \n",
    "c = np.random.randint(1,10,size=(5,))\n",
    "print(f'随机1至10之间取5个元素组成一维数组{c}')\n",
    "d = np.random.randint(1,20,size=(3,4))\n",
    "print(f'随机1至20之间取12个元素组成二维数组：\\n{d}')\n",
    "e = np.random.randint(1,20,size=(2,3,4))\n",
    "print(f'随机1至20之间取24个元素组成三维数组：\\n{e}')\n"
   ]
  },
  {
   "cell_type": "code",
   "execution_count": null,
   "id": "933917f8",
   "metadata": {},
   "outputs": [],
   "source": []
  }
 ],
 "metadata": {
  "kernelspec": {
   "display_name": "Python 3 (ipykernel)",
   "language": "python",
   "name": "python3"
  },
  "language_info": {
   "codemirror_mode": {
    "name": "ipython",
    "version": 3
   },
   "file_extension": ".py",
   "mimetype": "text/x-python",
   "name": "python",
   "nbconvert_exporter": "python",
   "pygments_lexer": "ipython3",
   "version": "3.9.17"
  }
 },
 "nbformat": 4,
 "nbformat_minor": 5
}
