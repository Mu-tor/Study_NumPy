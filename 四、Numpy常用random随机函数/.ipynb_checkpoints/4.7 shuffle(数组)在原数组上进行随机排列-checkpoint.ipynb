{
 "cells": [
  {
   "attachments": {},
   "cell_type": "markdown",
   "id": "a236227f",
   "metadata": {},
   "source": [
    "## 4.7 shuffle(数组)把一个数进行随机排列\n",
    "只对第0轴进行排序"
   ]
  },
  {
   "cell_type": "code",
   "execution_count": 1,
   "id": "eda2496b",
   "metadata": {},
   "outputs": [
    {
     "name": "stdout",
     "output_type": "stream",
     "text": [
      "没有随机排列前的一维数组[0 1 2 3 4 5 6 7 8 9]\n",
      "随机排列后的一维数组[6 4 9 1 0 5 7 8 2 3]\n",
      "没有随机排列前的二维数组\n",
      "[[ 0  1  2  3  4]\n",
      " [ 5  6  7  8  9]\n",
      " [10 11 12 13 14]\n",
      " [15 16 17 18 19]]\n",
      "\n",
      "随机排列后的二维数组\n",
      "[[10 11 12 13 14]\n",
      " [15 16 17 18 19]\n",
      " [ 5  6  7  8  9]\n",
      " [ 0  1  2  3  4]]\n"
     ]
    }
   ],
   "source": [
    "import numpy as np\n",
    "一维数组 = np.arange(10)\n",
    "print(f'没有随机排列前的一维数组{一维数组}')\n",
    "np.random.shuffle(一维数组)\n",
    "print(f'随机排列后的一维数组{一维数组}')\n",
    "\n",
    "\n",
    "二维数组 = np.arange(20).reshape(4,5)\n",
    "print(f'没有随机排列前的二维数组\\n{二维数组}\\n')\n",
    "np.random.shuffle(二维数组)\n",
    "print(f'随机排列后的二维数组\\n{二维数组}')\n"
   ]
  },
  {
   "cell_type": "markdown",
   "id": "8f5a08d3",
   "metadata": {},
   "source": [
    "**注意：多维数组随机排列只按行随机，列是不变的**"
   ]
  },
  {
   "cell_type": "code",
   "execution_count": 4,
   "id": "e44b0f0c",
   "metadata": {},
   "outputs": [
    {
     "name": "stdout",
     "output_type": "stream",
     "text": [
      "没有随机排列前的三维数组\n",
      "[[[ 0  1  2]\n",
      "  [ 3  4  5]]\n",
      "\n",
      " [[ 6  7  8]\n",
      "  [ 9 10 11]]\n",
      "\n",
      " [[12 13 14]\n",
      "  [15 16 17]]]\n",
      "\n",
      "随机排列后的三维数组\n",
      "[[[ 6  7  8]\n",
      "  [ 9 10 11]]\n",
      "\n",
      " [[12 13 14]\n",
      "  [15 16 17]]\n",
      "\n",
      " [[ 0  1  2]\n",
      "  [ 3  4  5]]]\n"
     ]
    }
   ],
   "source": [
    "三维数组 = np.arange(18).reshape(3,2,-1)\n",
    "print(f'没有随机排列前的三维数组\\n{三维数组}\\n')\n",
    "np.random.shuffle(三维数组)\n",
    "print(f'随机排列后的三维数组\\n{三维数组}')\n"
   ]
  },
  {
   "cell_type": "code",
   "execution_count": null,
   "id": "0551ef02",
   "metadata": {},
   "outputs": [],
   "source": []
  }
 ],
 "metadata": {
  "kernelspec": {
   "display_name": "Python 3 (ipykernel)",
   "language": "python",
   "name": "python3"
  },
  "language_info": {
   "codemirror_mode": {
    "name": "ipython",
    "version": 3
   },
   "file_extension": ".py",
   "mimetype": "text/x-python",
   "name": "python",
   "nbconvert_exporter": "python",
   "pygments_lexer": "ipython3",
   "version": "3.9.17"
  }
 },
 "nbformat": 4,
 "nbformat_minor": 5
}
