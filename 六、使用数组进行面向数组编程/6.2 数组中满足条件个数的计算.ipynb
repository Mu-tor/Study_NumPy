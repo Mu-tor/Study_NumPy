{
 "cells": [
  {
   "cell_type": "markdown",
   "id": "635245b8",
   "metadata": {},
   "source": [
    "### 7.2.1 将条件逻辑作为数组操作"
   ]
  },
  {
   "cell_type": "code",
   "execution_count": 1,
   "id": "01c80ffe",
   "metadata": {},
   "outputs": [
    {
     "name": "stdout",
     "output_type": "stream",
     "text": [
      "数组:\n",
      "[[1 3 6]\n",
      " [9 3 2]\n",
      " [1 4 3]]\n",
      "------------------------------\n",
      "[[False False  True]\n",
      " [ True False False]\n",
      " [False  True False]]\n",
      "------------------------------\n",
      "[[1314 1314  520]\n",
      " [ 520 1314 1314]\n",
      " [1314  520 1314]]\n"
     ]
    }
   ],
   "source": [
    "import numpy as np\n",
    "a = np.array([[1,3,6],[9,3,2],[1,4,3]])\n",
    "print(f'数组:\\n{a}')\n",
    "print('-'*30)\n",
    "print(a>3)\n",
    "print('-'*30)\n",
    "print(np.where(a>3,520,1314))             # 大于3的数值为520否则为1314\n"
   ]
  },
  {
   "cell_type": "markdown",
   "id": "72ff4e8b",
   "metadata": {},
   "source": [
    "### 7.2.2 布尔值数组方法  any和all"
   ]
  },
  {
   "cell_type": "code",
   "execution_count": 2,
   "id": "642036ec",
   "metadata": {},
   "outputs": [
    {
     "name": "stdout",
     "output_type": "stream",
     "text": [
      "数组:\n",
      "[[1 3 6]\n",
      " [9 3 2]\n",
      " [1 4 3]]\n",
      "------------------------------\n",
      "3\n"
     ]
    }
   ],
   "source": [
    "import numpy as np\n",
    "a = np.array([[1,3,6],[9,3,2],[1,4,3]])\n",
    "print(f'数组:\\n{a}')\n",
    "print('-'*30)\n",
    "print((a>3).sum())  # 数组中大于3的数有多少个\n"
   ]
  },
  {
   "cell_type": "markdown",
   "id": "f1216eae",
   "metadata": {},
   "source": [
    "对于布尔值数组，有两个常用方法any和all。\n",
    "\n",
    "any：检查数组中是否至少有一个True\n",
    "\n",
    "all：检查是否每个值都是True"
   ]
  },
  {
   "cell_type": "code",
   "execution_count": 3,
   "id": "51ac278c",
   "metadata": {},
   "outputs": [
    {
     "name": "stdout",
     "output_type": "stream",
     "text": [
      "True\n",
      "False\n"
     ]
    }
   ],
   "source": [
    "import numpy as np\n",
    "a = np.array([False,False,True,False])\n",
    "print(a.any())\n",
    "print(a.all())"
   ]
  },
  {
   "cell_type": "markdown",
   "id": "d3c7255d",
   "metadata": {},
   "source": [
    "### 7.2.3 按值大小排序 sort"
   ]
  },
  {
   "cell_type": "markdown",
   "id": "a65ee4cb",
   "metadata": {},
   "source": [
    "ndarray.sort(axis=-1, kind='quicksort', order=None)"
   ]
  },
  {
   "cell_type": "markdown",
   "id": "4ae8d67a",
   "metadata": {},
   "source": [
    "|参数|描述|\n",
    "|----|----|\n",
    "|axis|排序沿数组的（轴）方向，0表示按行，1表示按列，None表示展开来排序，默认值为-1，表示沿最后的轴排序|\n",
    "|kind|排序的算法，提供了快排‘quicksort’、混排‘mergesort’、堆排‘heapsort’，默认为'quicksort'|\n",
    "|order|排序的字段名，可指定字段排序，默认为None|"
   ]
  },
  {
   "cell_type": "code",
   "execution_count": 4,
   "id": "f51c45d6",
   "metadata": {},
   "outputs": [
    {
     "name": "stdout",
     "output_type": "stream",
     "text": [
      "[1 2 3 4 5 6 7 8 9]\n"
     ]
    }
   ],
   "source": [
    "# 一维数组：\n",
    "import numpy as np\n",
    "a = np.array([3,6,7,9,2,1,8,5,4])\n",
    "a.sort()\n",
    "print(a)"
   ]
  },
  {
   "cell_type": "code",
   "execution_count": 11,
   "id": "5c05c9e2",
   "metadata": {},
   "outputs": [
    {
     "name": "stdout",
     "output_type": "stream",
     "text": [
      "数组：\n",
      "[[ 0 12 48]\n",
      " [ 4 18 14]\n",
      " [ 7  1 99]]\n",
      "------------------------------\n",
      "[[ 0 12 48]\n",
      " [ 4 14 18]\n",
      " [ 1  7 99]]\n",
      "------------------------------\n",
      "[[ 0  1 14]\n",
      " [ 4 12 48]\n",
      " [ 7 18 99]]\n",
      "[[ -7 -18 -99]\n",
      " [ -4 -12 -48]\n",
      " [  0  -1 -14]]\n"
     ]
    }
   ],
   "source": [
    "# 二维数组：\n",
    "import numpy as np\n",
    "a = np.array([[0,12,48],[4,18,14],[7,1,99]])\n",
    "print(f'数组：\\n{a}')\n",
    "print('-'*30)\n",
    "print(np.sort(a))  # 默认按最后的轴排序，就是（行，列）（0，1）\n",
    "print('-'*30)\n",
    "print(np.sort(a,axis=0))  # 按行排序"
   ]
  },
  {
   "cell_type": "markdown",
   "id": "7f334ce4",
   "metadata": {},
   "source": [
    "拓展：按字段名排序"
   ]
  },
  {
   "cell_type": "code",
   "execution_count": 6,
   "id": "aa898a0b",
   "metadata": {},
   "outputs": [
    {
     "data": {
      "text/plain": [
       "array([(b'Bob', 17), (b'Jane', 27), (b'Mike', 21), (b'Nancy', 25)],\n",
       "      dtype=[('name', 'S10'), ('age', '<i4')])"
      ]
     },
     "execution_count": 6,
     "metadata": {},
     "output_type": "execute_result"
    }
   ],
   "source": [
    "dt = np.dtype([('name', 'S10'), ('age', int)])\n",
    "a = np.array([(\"Mike\", 21), (\"Nancy\", 25), (\"Bob\", 17), (\"Jane\", 27)], dtype = dt)\n",
    "np.sort(a, order = 'name')"
   ]
  },
  {
   "cell_type": "code",
   "execution_count": 7,
   "id": "9320ee9b",
   "metadata": {},
   "outputs": [
    {
     "data": {
      "text/plain": [
       "array([(b'Bob', 17), (b'Mike', 21), (b'Nancy', 25), (b'Jane', 27)],\n",
       "      dtype=[('name', 'S10'), ('age', '<i4')])"
      ]
     },
     "execution_count": 7,
     "metadata": {},
     "output_type": "execute_result"
    }
   ],
   "source": [
    "np.sort(a, order = 'age')"
   ]
  },
  {
   "cell_type": "markdown",
   "id": "65b50f51",
   "metadata": {},
   "source": [
    "### 7.2.4 从大到小的索引 argsort"
   ]
  },
  {
   "cell_type": "markdown",
   "id": "08488979",
   "metadata": {},
   "source": [
    "numpy.argsort(a, axis=-1, kind='quicksort', order=None)\n",
    "\n",
    "对数组沿给定轴执行间接排序，并使用指定排序类型返回数据的索引数组。 这个索引数组用于构造排序后的数组。\n",
    "\n",
    "参数类似于sort()"
   ]
  },
  {
   "cell_type": "code",
   "execution_count": 10,
   "id": "bcfc2fc1",
   "metadata": {},
   "outputs": [
    {
     "name": "stdout",
     "output_type": "stream",
     "text": [
      "索引升序：[1 2 0]\n",
      "数组升序：[29 39 59]\n",
      "索引降序：[0 2 1]\n",
      "数组降序：[59 39 29]\n"
     ]
    }
   ],
   "source": [
    "# 一维数组：\n",
    "import numpy as np\n",
    "x = np.array([59, 29, 39])\n",
    "a = np.argsort(x)\n",
    "print(f'索引升序：{a}')  # 升序\n",
    "# argsort函数返回的是数组值从小到大的索引值,[3, 1, 2]从小到大为[1，2，3],期对应的索引为[1，2，0]\n",
    "print(f'数组升序：{x[a]}')  # 以排序后的顺序重构原数组\n",
    "b = np.argsort(-x)  # 降序\n",
    "print(f'索引降序：{b}')\n",
    "print(f'数组降序：{x[b]}')\n"
   ]
  },
  {
   "cell_type": "code",
   "execution_count": 9,
   "id": "56df1fca",
   "metadata": {},
   "outputs": [
    {
     "name": "stdout",
     "output_type": "stream",
     "text": [
      "索引排序：\n",
      "[[0 1 2]\n",
      " [0 2 1]\n",
      " [1 0 2]]\n",
      "------------------------------\n",
      "[[ 0 12 48]\n",
      " [ 4 14 18]\n",
      " [ 1  7 99]]\n"
     ]
    }
   ],
   "source": [
    "# 二维数组：\n",
    "import numpy as np\n",
    "x = np.array([[0, 12, 48], [4, 18, 14], [7, 1, 99]])\n",
    "a1 = np.argsort(x)\n",
    "print(f'索引排序：\\n{a1}')\n",
    "print('-'*30)\n",
    "# 以排序后的顺序重构原数组，注意与一维数组的形式不一样\n",
    "print(np.array([np.take(x[i], x[i].argsort()) for i in range(3)]))"
   ]
  },
  {
   "cell_type": "markdown",
   "id": "7267fa05",
   "metadata": {},
   "source": [
    "### 7.2.5 多级排序方法 lexsort"
   ]
  },
  {
   "cell_type": "markdown",
   "id": "7d0a4596",
   "metadata": {},
   "source": [
    "lexsort(keys, axis=-1)\n",
    "\n",
    "lexsort是一种多级排序方法。\n",
    "\n",
    "作用为对给定的 keys 中的最后一个 key 排序，每一个 key 都被认为是列向量，其他 keys 用来辅助最后一个 key 进行排序。\n",
    "\n",
    "最后返回最后一个 key 进行排序的索引。"
   ]
  },
  {
   "cell_type": "markdown",
   "id": "78384e25",
   "metadata": {},
   "source": [
    "|参数|描述|\n",
    "|--------|---------|\n",
    "|'axis'|数组排序时的基准，axis=0，按行排序；axis=1，按列排序|\n",
    "|'keys'|排序的参照物包括数组或包含N维的元组，默认值为最后一行，（如果为二维数组则指最后一列）|"
   ]
  },
  {
   "cell_type": "markdown",
   "id": "12c2888b",
   "metadata": {},
   "source": [
    "假设有学生成绩：\n",
    "|英语成绩|数学成绩|语文成绩|总成绩|\n",
    "|--------|--------|--------|------|\n",
    "|31|54|84|169|\n",
    "|78|31|54|163|\n",
    "|35|89|97|221|\n",
    "|48|76|97|221|\n",
    "\n",
    "对学生成绩进行排序时，首先考虑总成绩，总成绩相同时再根据语文成绩进行排序\n",
    "\n",
    "lexsort就是根据keys从后往前进行排序\n",
    "```\n",
    "[[31, 54, 84, 169],             [[78, 31, 54, 163], \n",
    " [78, 31, 54, 163],     =>       [31, 54, 84, 169], \n",
    " [35, 89, 97, 221],              [35, 89, 97, 221],\n",
    " [48, 76, 97, 221]]              [48, 76, 97, 221]]\n",
    "```\n",
    " 此时第三和第四名同学总成绩相同，再根据语文成绩进行排序，\n",
    " 语文成绩再次相同，根据数学成绩进行排序，\n",
    "```\n",
    "[[78, 31, 54, 163],              [[78, 31, 54, 163], \n",
    " [31, 54, 84, 169],     =>       [31, 54, 84, 169], \n",
    " [48, 76, 97, 221],              [35, 89, 97, 221],\n",
    " [35, 89, 97, 221]]              [48, 76, 97, 221]]\n",
    "``` \n",
    " 当数学成绩再次相同时，根据英语成绩进行排序，\n",
    " 当英语成绩也相同时，考虑作弊嫌疑"
   ]
  },
  {
   "cell_type": "code",
   "execution_count": 26,
   "id": "b3fc4c3c",
   "metadata": {},
   "outputs": [
    {
     "data": {
      "text/plain": [
       "array([[ 4, 18, 14],\n",
       "       [ 0, 12, 48],\n",
       "       [ 7,  1, 99]])"
      ]
     },
     "execution_count": 26,
     "metadata": {},
     "output_type": "execute_result"
    }
   ],
   "source": [
    "import numpy as np\n",
    "x = np.array([[0, 12, 48], \n",
    "              [4, 18, 14], \n",
    "              [7, 1, 99]])\n",
    "np.lexsort(x)  # 返回索引值"
   ]
  },
  {
   "cell_type": "code",
   "execution_count": 19,
   "id": "5dbc07ff",
   "metadata": {},
   "outputs": [
    {
     "name": "stdout",
     "output_type": "stream",
     "text": [
      "[2 0 4 6 5 3 1]\n",
      "[1 1 3 4 4 4 5]\n"
     ]
    }
   ],
   "source": [
    "a = np.array([1, 5, 1, 4, 3, 4, 4])\n",
    "b = np.array([9, 3, 0, 4, 0, 2, 1])\n",
    "ind = np.lexsort((b, a))  # 对a数组进行排序，同时参考b数组\n",
    "print(ind)\n",
    "print(a[ind])"
   ]
  },
  {
   "cell_type": "code",
   "execution_count": 20,
   "id": "7e39556c",
   "metadata": {},
   "outputs": [
    {
     "data": {
      "text/plain": [
       "[(1, 0), (1, 9), (3, 0), (4, 1), (4, 2), (4, 4), (5, 3)]"
      ]
     },
     "execution_count": 20,
     "metadata": {},
     "output_type": "execute_result"
    }
   ],
   "source": [
    "list(zip(a[ind], b[ind]))"
   ]
  },
  {
   "cell_type": "markdown",
   "id": "d63249ec",
   "metadata": {},
   "source": [
    "矩阵类型进行lexsort排序时，按行从后往前进行排序"
   ]
  },
  {
   "cell_type": "code",
   "execution_count": 21,
   "id": "0b4e0629",
   "metadata": {},
   "outputs": [
    {
     "data": {
      "text/plain": [
       "array([2, 0, 4, 6, 5, 3, 1], dtype=int64)"
      ]
     },
     "execution_count": 21,
     "metadata": {},
     "output_type": "execute_result"
    }
   ],
   "source": [
    "c = np.array([[9, 3, 0, 4, 0, 2, 1],\n",
    "              [1, 5, 1, 4, 3, 4, 4]])\n",
    "np.lexsort(c)  # 按行从后往前参考keys进行排序"
   ]
  },
  {
   "cell_type": "code",
   "execution_count": 51,
   "id": "4e075fc8",
   "metadata": {},
   "outputs": [
    {
     "name": "stdout",
     "output_type": "stream",
     "text": [
      "[[ 6 45 91]\n",
      " [ 1 65 65]\n",
      " [ 9 35 15]]\n",
      "[[ 6 91 45]\n",
      " [ 1 65 65]\n",
      " [ 9 15 35]]\n",
      "[[ 9 35 15]\n",
      " [ 1 65 65]\n",
      " [ 6 45 91]]\n"
     ]
    }
   ],
   "source": [
    "y = np.array([[6,45,91],\n",
    "              [1,65,65],\n",
    "              [9,35,15]])\n",
    "print(y)       \n",
    "print(y.T[np.lexsort(y)].T)      # 按最后一行排序\n",
    "print(y[np.lexsort(y.T)])        # 按最后一列排序"
   ]
  },
  {
   "attachments": {},
   "cell_type": "markdown",
   "id": "4046fe9e",
   "metadata": {},
   "source": [
    "### 7.2.6 唯一值与其它集合逻辑 unique和in1d"
   ]
  },
  {
   "cell_type": "code",
   "execution_count": 52,
   "id": "c98f7fe1",
   "metadata": {},
   "outputs": [
    {
     "name": "stdout",
     "output_type": "stream",
     "text": [
      "['唐僧' '孙悟空' '沙和尚' '猪八戒']\n",
      "[1 3 5 6 7]\n"
     ]
    }
   ],
   "source": [
    "# 去重复：\n",
    "import numpy as np\n",
    "name = np.array(['孙悟空','猪八戒','孙悟空','沙和尚','孙悟空','唐僧'])\n",
    "print(np.unique(name))\n",
    "arry = np.array([1,3,1,3,5,3,1,3,7,3,5,6])\n",
    "print(np.unique(arry))\n"
   ]
  },
  {
   "cell_type": "code",
   "execution_count": 53,
   "id": "baf6fb77",
   "metadata": {},
   "outputs": [
    {
     "name": "stdout",
     "output_type": "stream",
     "text": [
      "[ True False False  True  True False  True]\n"
     ]
    }
   ],
   "source": [
    "# 检查一个数组中的值是否在另外一个数组中，并返回一个布尔数组：\n",
    "import numpy as np\n",
    "a = np.array([6,0,0,3,2,5,6])\n",
    "print(np.in1d(a,[2,3,6]))\n"
   ]
  },
  {
   "attachments": {},
   "cell_type": "markdown",
   "id": "1536d5fe",
   "metadata": {},
   "source": [
    "**附：数组的集合操作    x和y是两个不同的数组**\n",
    "|方法|描述|\n",
    "|----|----|\n",
    "|unique(x)|\t计算x的唯一值，并排序|\n",
    "|intersect1d(x,y)|\t计算x和y的交集，并排序|\n",
    "|union1d(x,y)|\t计算x和y的并集，并排序|\n",
    "|in1d(x,y)|\t计算x中的元素是否包含在y中，返回一个布尔值数组|\n",
    "|setdiff1d(x,y)|\t差集，在x中但不在y中的x元素|\n",
    "|setxor1d(x,y)|\t异或集，在x或y中，但不属于x、y交集的元素|"
   ]
  },
  {
   "cell_type": "code",
   "execution_count": null,
   "id": "ba910fef",
   "metadata": {},
   "outputs": [],
   "source": []
  }
 ],
 "metadata": {
  "celltoolbar": "无",
  "kernelspec": {
   "display_name": "Python 3 (ipykernel)",
   "language": "python",
   "name": "python3"
  },
  "language_info": {
   "codemirror_mode": {
    "name": "ipython",
    "version": 3
   },
   "file_extension": ".py",
   "mimetype": "text/x-python",
   "name": "python",
   "nbconvert_exporter": "python",
   "pygments_lexer": "ipython3",
   "version": "3.9.17"
  }
 },
 "nbformat": 4,
 "nbformat_minor": 5
}
