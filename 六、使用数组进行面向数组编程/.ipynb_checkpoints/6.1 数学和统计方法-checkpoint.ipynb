{
 "cells": [
  {
   "cell_type": "markdown",
   "id": "8dde4870",
   "metadata": {},
   "source": [
    "# 六、使用数组进行面向数组编程"
   ]
  },
  {
   "attachments": {},
   "cell_type": "markdown",
   "id": "4faf92ba",
   "metadata": {},
   "source": [
    "使用Numpy数组可以使你利用简单的数组表达式完成多种数据操作任务，而无须写大量的循环，这种利用数组表达式来替代循环的方法，称向量化。\n",
    "\n",
    "通常，向量化的数组操作会比纯Python的等价实现在速度上快一到两个数量级（甚至更多）"
   ]
  },
  {
   "attachments": {},
   "cell_type": "markdown",
   "id": "d5502a16",
   "metadata": {},
   "source": [
    "## 6.1 数学和统计方法"
   ]
  },
  {
   "attachments": {},
   "cell_type": "markdown",
   "id": "d38799fa",
   "metadata": {},
   "source": [
    "|方法\t|描述|\n",
    "|-----|----|\n",
    "|sum\t|沿着轴向计算所有元素的累和，0长度的数组累和为0|\n",
    "|average\t|加权平均，参数可以指定weights|\n",
    "|prod|\t所有元素的乘积|\n",
    "|mean|\t数学平均，0长度的数组平均值为NaN|\n",
    "|std,var|\t标准差和方差，可以选择自由度调整（默认分母是n）|\n",
    "|min,max|\t最小和最大值|\n",
    "|argmin,argmax|\t最小和最大值的位置|\n",
    "|cumsum|\t从0开始元素累积和|\n",
    "|cumprod|\t从1开始元素累积积|\n",
    "|median|\t中位数|\n",
    "|prercentile|\t0-100百分位数|\n",
    "|quantile|\t0-1分位数|"
   ]
  },
  {
   "cell_type": "code",
   "execution_count": 10,
   "id": "fcf894ab",
   "metadata": {},
   "outputs": [
    {
     "name": "stdout",
     "output_type": "stream",
     "text": [
      "-0.20145373403445635\n",
      "1.0234106443061295\n"
     ]
    }
   ],
   "source": [
    "import numpy as np\n",
    "arr = np.random.normal(0, 1, 100)\n",
    "# print(arr)\n",
    "print(np.mean(arr))\n",
    "print(np.std(arr))"
   ]
  },
  {
   "attachments": {},
   "cell_type": "markdown",
   "id": "fa4c1ec8",
   "metadata": {},
   "source": [
    "### 7.1.1 平均数，加权平均数，中位数，众数"
   ]
  },
  {
   "attachments": {},
   "cell_type": "markdown",
   "id": "d71c6a20",
   "metadata": {},
   "source": [
    "1、平均数：所有数加在一起求平均\n",
    "\n",
    "2、中位数：对于有限的数集，可以通过把所有观察值**高低排序**后找出正中间的一个作为中位数。如果观察值有偶数个，通常取最中间的两个数值的平均数作为中位数。\n",
    "\n",
    "3、众数：出现次数最多的那个数\n",
    "\n",
    "4、加权平均数：加权平均值即将各数值乘以相应的权数，然后加总求和得到总体值，再除以总的单位数。加权平均值的大小不仅取决于总体中各单位的数值（变量值）的大小，而且取决于各数值出现的次数（频数），由于各数值出现的次数对其在平均数中的影响起着权衡轻重的作用，因此叫做权数。 因为加权平均值是根据权数的不同进行的平均数的计算，所以又叫加权平均数。在日常生活中，人们常常把“权数”理解为事物所占的“权重”\n",
    "x占a% y占b% z占c% n占m%\n",
    "加权平均数=（ax+by+cz+mn）/(x+y+z+n)"
   ]
  },
  {
   "attachments": {},
   "cell_type": "markdown",
   "id": "b0ccde8f",
   "metadata": {},
   "source": [
    "### 7.1.2 一维数组"
   ]
  },
  {
   "attachments": {},
   "cell_type": "markdown",
   "id": "bf7d05c5",
   "metadata": {},
   "source": [
    "沿轴向进行计算，一维数组只有一个0轴"
   ]
  },
  {
   "cell_type": "code",
   "execution_count": 11,
   "id": "da5ef5a0",
   "metadata": {},
   "outputs": [
    {
     "name": "stdout",
     "output_type": "stream",
     "text": [
      "数组：[1 2 3 4 3 5 3 6]\n",
      "27\n",
      "6480\n",
      "[ 1  3  6 10 13 18 21 27]\n",
      "[   1    2    6   24   72  360 1080 6480]\n",
      "6\n",
      "1\n",
      "7\n",
      "0\n",
      "3.375\n",
      "3.0\n",
      "3.375\n",
      "3\n"
     ]
    }
   ],
   "source": [
    "import numpy as np\n",
    "a = np.array([1,2,3,4,3,5,3,6])\n",
    "print(f'数组：{a}')\n",
    "print(np.sum(a))\n",
    "print(np.prod(a))     # 所有元素的乘积\n",
    "print(np.cumsum(a))   # 从0开始元素的累积和\n",
    "print(np.cumprod(a))  # 从1开始元素的累积积\n",
    "print(np.max(a))\n",
    "print(np.min(a))\n",
    "print(np.argmax(a))    # 最大值所在的下标\n",
    "print(np.argmin(a))    # 最小值所在的下标\n",
    "print(np.mean(a))      # 平均数\n",
    "print(np.median(a))    # 中位数\n",
    "print(np.average(a))   # 加权平均\n",
    "counts = np.bincount(a) # 统计非负整数的个数，不能统计浮点数\n",
    "print(np.argmax(counts)) # 返回众数,此方法不能用于二维数组"
   ]
  },
  {
   "attachments": {},
   "cell_type": "markdown",
   "id": "06da9932",
   "metadata": {},
   "source": [
    "### 7.1.3 二维数组"
   ]
  },
  {
   "cell_type": "code",
   "execution_count": 12,
   "id": "c7eca480",
   "metadata": {},
   "outputs": [
    {
     "name": "stdout",
     "output_type": "stream",
     "text": [
      "数组：\n",
      "[[1 3 6]\n",
      " [9 2 3]\n",
      " [2 3 3]]\n",
      "------------------------------\n",
      "32\n",
      "17496\n",
      "[ 1  4 10 19 21 24 26 29 32]\n",
      "[    1     3    18   162   324   972  1944  5832 17496]\n",
      "9\n",
      "1\n",
      "3\n",
      "0\n",
      "3.5555555555555554\n",
      "3.0\n",
      "3.5555555555555554\n"
     ]
    }
   ],
   "source": [
    "import numpy as np\n",
    "from scipy import stats\n",
    "a = np.array([[1,3,6],[9,2,3],[2,3,3]])\n",
    "print(f'数组：\\n{a}')\n",
    "print('-'*30)\n",
    "print(np.sum(a))\n",
    "print(np.prod(a))\n",
    "print(np.cumsum(a))    # 从0开始元素的累积和，返回一维数组\n",
    "print(np.cumprod(a))   # 从1开始元素的累积积，返回一维数组\n",
    "print(np.max(a))\n",
    "print(np.min(a))\n",
    "print(np.argmax(a))    \n",
    "print(np.argmin(a))    \n",
    "print(np.mean(a))      \n",
    "print(np.median(a))    \n",
    "print(np.average(a))  "
   ]
  },
  {
   "attachments": {},
   "cell_type": "markdown",
   "id": "8cb2e374",
   "metadata": {},
   "source": [
    "注意：数组的众数不建议在Numpy里面计算，在Pandas里面计算更简单。\n",
    "\n",
    "将一维数组转成Pandas的Series,然后调用mode()方法"
   ]
  },
  {
   "cell_type": "code",
   "execution_count": 27,
   "id": "af96356e",
   "metadata": {},
   "outputs": [
    {
     "name": "stdout",
     "output_type": "stream",
     "text": [
      "[5 2 7 7 7 7 2 2 6 6 7 2 1 9 4 1 2 5 8 5]\n",
      "0    2\n",
      "1    7\n",
      "dtype: int32\n"
     ]
    }
   ],
   "source": [
    "import numpy as np\n",
    "import pandas as pd\n",
    "\n",
    "nums = np.random.randint(1, 10, size = 20)\n",
    "print(nums)\n",
    "ser = pd.Series(nums)\n",
    "print(ser.mode())"
   ]
  },
  {
   "attachments": {},
   "cell_type": "markdown",
   "id": "6cdf843e",
   "metadata": {},
   "source": [
    "将二维数组转成Pandas的DataFrame,然后调用mode()方法"
   ]
  },
  {
   "cell_type": "code",
   "execution_count": 29,
   "id": "26ce7b67",
   "metadata": {},
   "outputs": [
    {
     "name": "stdout",
     "output_type": "stream",
     "text": [
      "[[9 2 7 9 6]\n",
      " [7 1 3 3 4]\n",
      " [6 2 2 3 4]\n",
      " [7 1 2 9 1]]\n",
      "     0  1    2  3    4\n",
      "0  7.0  1  2.0  3  4.0\n",
      "1  NaN  2  NaN  9  NaN\n"
     ]
    }
   ],
   "source": [
    "nums = np.random.randint(1, 10, size=20).reshape(4, 5)\n",
    "print(nums)\n",
    "df = pd.DataFrame(nums)\n",
    "print(df.mode())"
   ]
  },
  {
   "attachments": {},
   "cell_type": "markdown",
   "id": "969fe801",
   "metadata": {},
   "source": [
    "### 7.1.4 Numpy的axis参数的用途"
   ]
  },
  {
   "attachments": {},
   "cell_type": "markdown",
   "id": "67057a8b",
   "metadata": {},
   "source": [
    "axis=0代表行，axis=1代表列\n",
    "\n",
    "所有的数学和统计函数都有这个参数，都可以使用\n",
    "\n",
    "我们想按行或按列使用时使用这个参数"
   ]
  },
  {
   "cell_type": "code",
   "execution_count": 30,
   "id": "5b739048",
   "metadata": {},
   "outputs": [
    {
     "name": "stdout",
     "output_type": "stream",
     "text": [
      "数组:\n",
      "[[1 3 6]\n",
      " [9 3 2]\n",
      " [1 4 3]]\n",
      "------------------------------\n",
      "[11 10 11]\n",
      "------------------------------\n",
      "[10 14  8]\n"
     ]
    }
   ],
   "source": [
    "import numpy as np\n",
    "a = np.array([[1,3,6],[9,3,2],[1,4,3]])\n",
    "print(f'数组:\\n{a}')\n",
    "print('-'*30)\n",
    "print(np.sum(a,axis=0))  # 每行中的每个对应元素相加，返回一维数组\n",
    "print('-'*30)\n",
    "print(np.sum(a,axis=1))  # 每列中的每个元素相加，返回一维数组"
   ]
  },
  {
   "attachments": {},
   "cell_type": "markdown",
   "id": "79f0dff8",
   "metadata": {},
   "source": [
    "其中思路正好是反的：axis=0 求每列的和。axis=1求每行的和。\n",
    "\n",
    "数组对应到现实中的一种解释：\n",
    "- 行：每行对应一个样本数据\n",
    "- 列：每列代表样本的一个特征\n",
    "\n",
    "数据标准化：\n",
    "- 对于机器学习、神经网络来说，不同列的量钢是相同的，收敛更快。\n",
    "- 有两个特征，一个是商品单价1元至50元，另一个是销售数量3千个至1万个，这两个数字不可比，所以需要都做标准化。\n",
    "- 比如在Excel里，单价一个列，销售数量一个列，不同列代表不同特征，所以用axis=0做计算\n",
    "- 标准化一般使用：通过均值和方差实现\n",
    "\n",
    "\t数组 = （数组 - mean(数组，axis=0)）/ std(数组, axis=0)   "
   ]
  },
  {
   "cell_type": "code",
   "execution_count": null,
   "id": "9092fdb6",
   "metadata": {},
   "outputs": [],
   "source": []
  }
 ],
 "metadata": {
  "kernelspec": {
   "display_name": "Python 3 (ipykernel)",
   "language": "python",
   "name": "python3"
  },
  "language_info": {
   "codemirror_mode": {
    "name": "ipython",
    "version": 3
   },
   "file_extension": ".py",
   "mimetype": "text/x-python",
   "name": "python",
   "nbconvert_exporter": "python",
   "pygments_lexer": "ipython3",
   "version": "3.9.17"
  }
 },
 "nbformat": 4,
 "nbformat_minor": 5
}
